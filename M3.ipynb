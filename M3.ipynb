{
 "cells": [
  {
   "cell_type": "markdown",
   "id": "5faa207e-d1c3-49da-95d7-f2cdcb79b0a1",
   "metadata": {
    "tags": []
   },
   "source": [
    "# Exercises 1 - Representing Adversarial Game States\n",
    "\n",
    "Note that this GameState can do any size and # of players (as long as they are positive)."
   ]
  },
  {
   "cell_type": "code",
   "execution_count": 407,
   "id": "d9d9f953-1e7b-484a-b105-cb4e648db8b1",
   "metadata": {
    "tags": []
   },
   "outputs": [
    {
     "name": "stdout",
     "output_type": "stream",
     "text": [
      "Starting Game!\n",
      "Player 1 chose move (0, 0) from valid moves [(0, 0), (0, 1), (0, 2), (1, 0), (1, 1), (1, 2), (2, 0), (2, 1), (2, 2)]: \n",
      "Player 2 chose move (0, 1) from valid moves [(0, 1), (0, 2), (1, 0), (1, 1), (1, 2), (2, 0), (2, 1), (2, 2)]: \n",
      "Player 1 chose move (2, 2) from valid moves [(0, 2), (1, 0), (1, 1), (1, 2), (2, 0), (2, 1), (2, 2)]: \n",
      "Player 2 chose move (1, 0) from valid moves [(0, 2), (1, 0), (1, 1), (1, 2), (2, 0), (2, 1)]: \n",
      "Player 1 chose move (2, 1) from valid moves [(0, 2), (1, 1), (1, 2), (2, 0), (2, 1)]: \n",
      "Player 2 chose move (1, 2) from valid moves [(0, 2), (1, 1), (1, 2), (2, 0)]: \n",
      "Player 1 chose move (0, 2) from valid moves [(0, 2), (1, 1), (2, 0)]: \n",
      "Player 2 chose move (2, 0) from valid moves [(1, 1), (2, 0)]: \n",
      "Player 1 chose move (1, 1) from valid moves [(1, 1)]: \n",
      "Game over. Winner:  1\n"
     ]
    }
   ],
   "source": [
    "import random\n",
    "\n",
    "class GameState: \n",
    "    def __init__(self, num_players = 2, size = 3, print_each_move = True): \n",
    "        # We represent the Tic-Tac-Toe board as a 3x3 array. \n",
    "        # We use 0 to represent an empty square, 1 for Player 1's piece, and 2 for Player 2's piece. \n",
    "        self.board = []\n",
    "        for row in range(size):\n",
    "            self.board.append([])\n",
    "            for col in range(size):\n",
    "                self.board[row].append(0)\n",
    "        # Player 1 goes first. \n",
    "        self.player_to_move = random.choice(list(range(1, num_players+1)))\n",
    "        self.num_players = num_players\n",
    "        self.size = size\n",
    "        self.print_each_move = print_each_move\n",
    "        # print(self)\n",
    "        self.winner = 0\n",
    "        self.done = False\n",
    " \n",
    "    def make_move(self, row, col): \n",
    "        # Make a move at the specified location. \n",
    "        # This assumes that the move is valid. \n",
    "        assert self.board[row][col] == 0 \n",
    "        self.board[row][col] = self.player_to_move \n",
    "        # Switch the player to move. \n",
    "        self.player_to_move += 1\n",
    "        if self.player_to_move > self.num_players:\n",
    "            self.player_to_move = 1\n",
    "        done, winner = self.get_status()\n",
    "        self.winner = winner\n",
    "        self.done = done\n",
    " \n",
    "    def get_valid_moves(self): \n",
    "        # Return a list of valid moves. \n",
    "        # A move is a tuple (row, col). \n",
    "        return [(row, col) for row in range(self.size) for col in range(self.size) if self.board[row][col] == 0] \n",
    " \n",
    "    def is_game_over(self): \n",
    "        # Check if the game is over. \n",
    "        # This could be done more efficiently, but for simplicity we just check all possibilities. \n",
    "        return self.done\n",
    "\n",
    "    def get_status(self):\n",
    "        # Quick check\n",
    "        for row in range(self.size):\n",
    "            for col in range(self.size):\n",
    "                if self.board[row][col] == 0:\n",
    "                    return False, 0 # Game not over yet\n",
    "\n",
    "        for player in range(1, self.num_players + 1): \n",
    "            for row in range(self.size): \n",
    "                if all(self.board[row][col] == player for col in range(self.size)): \n",
    "                    return True, player \n",
    "            for col in range(self.size): \n",
    "                if all(self.board[row][col] == player for row in range(self.size)): \n",
    "                    return True, player \n",
    "            if all(self.board[i][i] == player for i in range(self.size)): \n",
    "                return True, player \n",
    "            if all(self.board[i][self.size-1-i] == player for i in range(self.size)): \n",
    "                return True, player \n",
    "        return True, 0 # Cat's game\n",
    "    \n",
    "    def print(self):\n",
    "        print(f'{self.player_to_move}/{self.num_players}')\n",
    "        for row in range(self.size):\n",
    "            print(self.board[row])\n",
    "    \n",
    "    def get_winner(self):\n",
    "        game_over, winner = is_game_over(self)\n",
    "        return winner\n",
    "    \n",
    "    def play_game(self):\n",
    "        print('Starting Game!')\n",
    "        while True:\n",
    "            if self.done:\n",
    "                if self.winner == 0:\n",
    "                    print(\"Cat's Game!\")\n",
    "                else:\n",
    "                    print('Game over. Winner: ', self.winner)\n",
    "                return\n",
    "            \n",
    "            vm = self.get_valid_moves()\n",
    "            mv = random.choice(vm)\n",
    "            print(f'Player {self.player_to_move} chose move {mv} from valid moves {vm}: ')\n",
    "            self.make_move(*mv)\n",
    "            if self.print_each_move:\n",
    "                self.print()\n",
    "            \n",
    "\n",
    "gs = GameState(print_each_move=False)\n",
    "gs.play_game()\n",
    "\n",
    "        "
   ]
  },
  {
   "cell_type": "markdown",
   "id": "7a1dd3ab-ca40-4970-ad06-1bd7baa127da",
   "metadata": {
    "tags": []
   },
   "source": [
    "# Exercises 2 - Minimax and Adversarial Game States"
   ]
  },
  {
   "cell_type": "markdown",
   "id": "d4ebabd8-625b-4eaa-be8d-fdd5642b6205",
   "metadata": {
    "tags": []
   },
   "source": [
    "## Ex 1 - Copy() (and minimax(), evaluate(), __str__()"
   ]
  },
  {
   "cell_type": "code",
   "execution_count": 380,
   "id": "cb024615-f5ba-410a-b910-ec225862d9c1",
   "metadata": {
    "tags": []
   },
   "outputs": [
    {
     "name": "stdout",
     "output_type": "stream",
     "text": [
      "[[1, 2], [3, 4]]\n",
      "[[1, 2], [3, 4]]\n",
      "[[5, 2], [3, 4]] [[5, 2], [3, 4]]\n",
      "[[5, 7], [3, 4]] [[5, 7], [3, 4]] [[5, 7], [3, 4]]\n",
      "[[5, 7], [3, 4]] [[5, 7], [3, 4]] [[5, 7], [3, 4]] [[5, 7], [9, 4]]\n",
      "1/2\n",
      "[0, 0, 0]\n",
      "[0, 0, 0]\n",
      "[0, 0, 0]\n",
      " <__main__.GameState object at 0x1160adad0>\n",
      "[[5, 7], [3, 4]]\n",
      "2/2\n",
      "[0, 0, 0]\n",
      "[0, 0, 0]\n",
      "[0, 0, 0]\n",
      "\n",
      "Starting Game!\n",
      "Player 2 chose move (1, 2) from valid moves [(0, 0), (0, 1), (0, 2), (1, 0), (1, 1), (1, 2), (2, 0), (2, 1), (2, 2)]: \n",
      "Player 1 chose move (0, 0) from valid moves [(0, 0), (0, 1), (0, 2), (1, 0), (1, 1), (2, 0), (2, 1), (2, 2)]: \n",
      "Player 2 chose move (1, 0) from valid moves [(0, 1), (0, 2), (1, 0), (1, 1), (2, 0), (2, 1), (2, 2)]: \n",
      "Player 1 chose move (0, 2) from valid moves [(0, 1), (0, 2), (1, 1), (2, 0), (2, 1), (2, 2)]: \n",
      "Player 2 chose move (2, 1) from valid moves [(0, 1), (1, 1), (2, 0), (2, 1), (2, 2)]: \n",
      "Player 1 chose move (0, 1) from valid moves [(0, 1), (1, 1), (2, 0), (2, 2)]: \n",
      "Player 2 chose move (2, 0) from valid moves [(1, 1), (2, 0), (2, 2)]: \n",
      "Player 1 chose move (1, 1) from valid moves [(1, 1), (2, 2)]: \n",
      "Player 2 chose move (2, 2) from valid moves [(2, 2)]: \n",
      "Game over. Winner:  1\n",
      "1/2\n",
      "[1, 1, 1]\n",
      "[2, 1, 2]\n",
      "[2, 2, 2]\n",
      " 2/2\n",
      "[0, 0, 0]\n",
      "[0, 0, 0]\n",
      "[0, 0, 0]\n",
      "\n",
      "Starting Game!\n",
      "Player 2 chose move (0, 2) from valid moves [(0, 0), (0, 1), (0, 2), (1, 0), (1, 1), (1, 2), (2, 0), (2, 1), (2, 2)]: \n",
      "Player 1 chose move (2, 2) from valid moves [(0, 0), (0, 1), (1, 0), (1, 1), (1, 2), (2, 0), (2, 1), (2, 2)]: \n",
      "Player 2 chose move (1, 0) from valid moves [(0, 0), (0, 1), (1, 0), (1, 1), (1, 2), (2, 0), (2, 1)]: \n",
      "Player 1 chose move (1, 2) from valid moves [(0, 0), (0, 1), (1, 1), (1, 2), (2, 0), (2, 1)]: \n",
      "Player 2 chose move (2, 0) from valid moves [(0, 0), (0, 1), (1, 1), (2, 0), (2, 1)]: \n",
      "Player 1 chose move (1, 1) from valid moves [(0, 0), (0, 1), (1, 1), (2, 1)]: \n",
      "Player 2 chose move (2, 1) from valid moves [(0, 0), (0, 1), (2, 1)]: \n",
      "Player 1 chose move (0, 0) from valid moves [(0, 0), (0, 1)]: \n",
      "Player 2 chose move (0, 1) from valid moves [(0, 1)]: \n",
      "Game over. Winner:  1\n",
      "1/2\n",
      "[1, 1, 1]\n",
      "[2, 1, 2]\n",
      "[2, 2, 2]\n",
      " 1/2\n",
      "[1, 2, 2]\n",
      "[2, 1, 1]\n",
      "[2, 2, 1]\n",
      "\n"
     ]
    }
   ],
   "source": [
    "\n",
    "def evaluate(self): \n",
    "    # If the game is over, return the score from the point of view of the current player. \n",
    "    if self.is_game_over(): \n",
    "        if self.get_winner() == self.player_to_move: \n",
    "            return -1  # We lost \n",
    "        elif self.get_winner() is None: \n",
    "            return 0  # It's a draw \n",
    "        else: \n",
    "            return 1  # We won \n",
    "    else: \n",
    "        return 0  # If the game isn't over, the score is 0. \n",
    "\n",
    "def minimax(self, depth): \n",
    "    # If we've reached the maximum depth or the game is over, return the score. \n",
    "    if depth == 0 or self.is_game_over(): \n",
    "        return self.evaluate(), None \n",
    "\n",
    "    # Initialize the best score and best move. \n",
    "    if self.player_to_move == 1:  # Player 1 wants to maximize the score. \n",
    "        best_score = -float('inf') \n",
    "        sign = 1 \n",
    "    else:  # Player 2 wants to minimize the score. \n",
    "        best_score = float('inf') \n",
    "        sign = -1 \n",
    "    best_move = None \n",
    "\n",
    "    # Try all possible moves. \n",
    "    for move in self.get_valid_moves(): \n",
    "        new_state = self.copy()  # copy() is a helper method that clones the current state. \n",
    "        new_state.make_move(*move) \n",
    "        score, _ = new_state.minimax(depth - 1) \n",
    "\n",
    "        # Update the best score and best move. \n",
    "        if sign * score > sign * best_score: \n",
    "            best_score = score \n",
    "            best_move = move \n",
    "\n",
    "    return best_score, best_move \n",
    "\n",
    "# Test copying\n",
    "a = [[1,2],[3,4]]\n",
    "print(a)\n",
    "b = a\n",
    "print(b)\n",
    "b[0][0]=5\n",
    "print(a, b)\n",
    "import copy as cp\n",
    "c = cp.copy(b)\n",
    "c[0][1] = 7\n",
    "print(a,b,c)\n",
    "d = cp.deepcopy(c)\n",
    "d[1][0] = 9\n",
    "print(a,b,c,d)\n",
    "\n",
    "\n",
    "g1 = GameState()\n",
    "print(str(g1), repr(g1))\n",
    "\n",
    "print(str(a))\n",
    "\n",
    "\n",
    "# Update print() to use a toString method\n",
    "def game_state_str(self):\n",
    "    s = f'{self.player_to_move}/{self.num_players}\\n'\n",
    "    for row in range(self.size):\n",
    "       s += str(self.board[row])\n",
    "       s += \"\\n\" \n",
    "    return s\n",
    "\n",
    "# augment or update methods of the GameState class\n",
    "GameState.evaluate = evaluate\n",
    "GameState.minimax = minimax\n",
    "GameState.copy = cp.deepcopy\n",
    "GameState.__str__ = game_state_str\n",
    "GameState.print = lambda self: print(str(self))\n",
    "\n",
    "# Verify that after copy, the boards are independent\n",
    "g2 = GameState(print_each_move=False)\n",
    "print(str(g2))\n",
    "g3 = g2.copy()\n",
    "g2.play_game()\n",
    "print(g2, g3)\n",
    "g3.play_game()\n",
    "print(g2,g3)\n",
    "\n"
   ]
  },
  {
   "cell_type": "markdown",
   "id": "641cf19f-eb89-46d5-8074-86ab091e0623",
   "metadata": {},
   "source": [
    "## Ex 1b - Adversarial without pruning"
   ]
  },
  {
   "cell_type": "code",
   "execution_count": null,
   "id": "1581ad52-7ab7-481c-b55d-9521d2e0ac5c",
   "metadata": {},
   "outputs": [],
   "source": []
  },
  {
   "cell_type": "markdown",
   "id": "31d9980a-efb8-48a3-8188-b6fe55d25311",
   "metadata": {
    "tags": []
   },
   "source": [
    "## Ex 2 - Alpha/Beta Pruning"
   ]
  },
  {
   "cell_type": "markdown",
   "id": "ca44950a-d8a8-45d2-b0a8-2345e91df1fe",
   "metadata": {},
   "source": [
    "## Ex 3 - Adversarial *WITH* Pruning"
   ]
  },
  {
   "cell_type": "markdown",
   "id": "f7b3736f-f083-48a4-be38-d66cdb3353bd",
   "metadata": {
    "jp-MarkdownHeadingCollapsed": true,
    "tags": []
   },
   "source": [
    "# Exercises 3 - Minimax with Alpha-Beta Pruning"
   ]
  },
  {
   "cell_type": "markdown",
   "id": "04fc2618-15f1-45b1-967d-c79af55fb176",
   "metadata": {},
   "source": [
    "# Exercises 4 - Monte Carlo Tree Search in Adversarial Game States"
   ]
  }
 ],
 "metadata": {
  "kernelspec": {
   "display_name": "Python 3 (ipykernel)",
   "language": "python",
   "name": "python3"
  },
  "language_info": {
   "codemirror_mode": {
    "name": "ipython",
    "version": 3
   },
   "file_extension": ".py",
   "mimetype": "text/x-python",
   "name": "python",
   "nbconvert_exporter": "python",
   "pygments_lexer": "ipython3",
   "version": "3.11.4"
  }
 },
 "nbformat": 4,
 "nbformat_minor": 5
}
