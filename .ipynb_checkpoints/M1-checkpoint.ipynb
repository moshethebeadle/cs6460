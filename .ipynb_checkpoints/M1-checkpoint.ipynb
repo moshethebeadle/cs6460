{
 "cells": [
  {
   "cell_type": "markdown",
   "id": "3f8bf21c-f338-421d-b850-f9d6e36cfb16",
   "metadata": {
    "jp-MarkdownHeadingCollapsed": true,
    "tags": []
   },
   "source": [
    "## Why is mathematics needed in the field of AI?\n",
    "As the slides say, math is the study of patterns, and AI is “pattern recognition and prediction”.\n",
    "Further, math is the base of every AI algorithm, and we need it to evaluate every AI model. \n",
    "\n",
    "## What are the important concepts required for AI? \n",
    "As the slides say: \n",
    "Statistical concepts are the core part of every AI model.\n",
    "Linear algebra comes exceptionally handy when we are dealing with a huge dataset.\n",
    "Calculus helps optimizing an AI model.\n",
    "Probability helps us in predicting the likelihood of events that are occurring.\n",
    "\n",
    "\n",
    "## What are the several applications of mathematics in AI? \n",
    "Stats helps with cleaning up the data prior to using it. \n",
    "Linear Algebra has a lot of uses.  We usually represent the data as a matrix, and use linear algebra techniques to manipulate the data in the matrix. \n",
    "Calculus — derivatives, specifically — helps us with optimization algorithms.  Optimization — getting as close as possible to the “best” answer — is the goal of AI. \n",
    "We use Probability to represent the AI’s answer in terms of, well, probabilities.  No answer is ever exact, but we can estimate how likely is that the answer is correct with probabilities. \n",
    "\n",
    "\n",
    "## What is the role of mathematics in an AI Project Cycle? \n",
    "The AI Project Cycle involves a number of steps, each of with requires one or more kinds of math:\n",
    "- Problem Scoping: it depends on the specific problem at hand, but most likely, we need math to \"scope the problem\", i.e. define the boundaries of the problem.  We would use math to describe the problem and decide on the measurements we'd use.  \n",
    "- Data Acquisition: we need statistics to decide beforehand how much data we need in order to have a representative sample, and we might need other kinds of math to convert the data into a usable format\n",
    "- Data Exploration involves several efforts to prepare the data for use: Data Cleaning and Data Analysis use descriptive statistics to detect and remove outliers and understand the distribution of the data; Data Interpretation uses inferential statistics to make, well, inferences about the data, and includes data visualization.  This step is also called Exploratory Data Analysis, or EDA.\n",
    "- Modelling: this is the step we normally think about when we talk about Machine Learning, but it's only one step of many.  Designing and tuning a model involves a lot of statistics and probability as well as linear algebra to deal with the large amounts of data.\n",
    "- Evaluation: I feel lik this is just an extension of the Modelling phase, because that phase requires evaluation as well.  However, in this phase, we're evaluating the model on completely new data to see how well it performs.  The point is, though, that this phase needs the same mathematical tools as the last one.\n",
    "- Deployment: this is where we take the model to the real world.  It's a continuation of the Evaluation phase but with a broader reach, and we'll continue using the same tools to evaluate its performance.  In fact, with more data coming in, we might need to tune the performance of our model to cope with the new scale.  \n",
    "Every step of the way, math gives us the tools to do AI.\n",
    "\n",
    "\n",
    "## What is the importance of mathematics in data literacy?\n",
    "First, what is data literacy?  Data literacy is understanding what the data mean.  It means making judgments based on the data.  Since those judgments can impact people in the real world, we have to be careful that we're interpreting the data correctly.\n",
    "\n",
    "And to do that, we need math!\n",
    "\n",
    "The classic examples of dadta literacy have to do with statistics and coming to general conclusions based on data.  Having a good stats and probability background can help us decide whether the conclusions made match the data.\n",
    "\n",
    "In the realm of machine learning models, if we understand how the math works under the hood, then we're less likely to place blind trust in the model's predictions and can better understand the limits of those predictions.  More specifically, if we have the tools of math, we can simulate the model's calculations ourselves, decompose the model to understand what it's doing, and see clearly what the algorithm is doing."
   ]
  },
  {
   "cell_type": "code",
   "execution_count": null,
   "id": "0a8e8c88-0987-402a-a1f9-2ba3710f4cb2",
   "metadata": {},
   "outputs": [],
   "source": []
  }
 ],
 "metadata": {
  "kernelspec": {
   "display_name": "Python 3 (ipykernel)",
   "language": "python",
   "name": "python3"
  },
  "language_info": {
   "codemirror_mode": {
    "name": "ipython",
    "version": 3
   },
   "file_extension": ".py",
   "mimetype": "text/x-python",
   "name": "python",
   "nbconvert_exporter": "python",
   "pygments_lexer": "ipython3",
   "version": "3.11.4"
  }
 },
 "nbformat": 4,
 "nbformat_minor": 5
}
